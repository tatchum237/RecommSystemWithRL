{
 "cells": [
  {
   "cell_type": "code",
   "execution_count": 6,
   "metadata": {},
   "outputs": [],
   "source": [
    "from model import LinUCB\n",
    "from ipywidgets import interact, widgets, Output, HTML, Layout, VBox, HBox\n",
    "from IPython.display import YouTubeVideo, HTML, IFrame \n",
    "from yaspin import yaspin\n",
    "\n",
    "from random import randrange\n",
    "import pandas as pd\n",
    "import numpy as np\n",
    "from utils import load_data, preprocess_fast, preprocess_without_title, preprocess_with_title, get_next_song_context\n",
    "from urllib.parse import urlparse, parse_qs\n",
    "\n",
    "\n",
    "# Load and preprocess data\n",
    "data = load_data(\"data/songs.csv\")\n",
    "\n",
    "songs_links = pd.read_csv(\"data/songs_links.csv\")"
   ]
  },
  {
   "cell_type": "code",
   "execution_count": 2,
   "metadata": {},
   "outputs": [],
   "source": [
    "def get_youtube_id(link):\n",
    "    return parse_qs(urlparse(link).query).get(\"v\", [None])[0]"
   ]
  },
  {
   "cell_type": "code",
   "execution_count": 53,
   "metadata": {},
   "outputs": [
    {
     "data": {
      "application/vnd.jupyter.widget-view+json": {
       "model_id": "c58c69a78c984ed7b94eecea865401c1",
       "version_major": 2,
       "version_minor": 0
      },
      "text/plain": [
       "HBox(children=(VBox(children=(HTML(value='<b>Current song:  </b><i>My Sweet Lord</i>'), Output(layout=Layout(h…"
      ]
     },
     "metadata": {},
     "output_type": "display_data"
    }
   ],
   "source": [
    "features = preprocess_fast(data)\n",
    "\n",
    "# Initialize your LinUCB model\n",
    "num_actions = len(features)\n",
    "num_features = features.shape[1]\n",
    "alpha = 0.5\n",
    "linucb_model = LinUCB(num_actions=num_actions, num_features=num_features, alpha=alpha)\n",
    "chosen_action = randrange(num_actions)\n",
    "\n",
    "# Store user ratings\n",
    "user_ratings = []\n",
    "\n",
    "# Define interactive GUI elements\n",
    "song_title_display = Output(layout=Layout(height='200px', width='200px', overflow_y='scroll'))  # Set the maximum height here\n",
    "\n",
    "current_song = HTML(\n",
    "    value=f\"<b>Current song:  </b><i>{data.loc[chosen_action, 'Title']}</i>\",\n",
    "   )\n",
    "youtube_display = Output(layout=Layout(height='500px'))  # Set the maximum height for YouTube video\n",
    "rating_slider = widgets.IntSlider(min=1, max=10, description='Rating:')\n",
    "suggest_button = widgets.Button(description='Rate Song')\n",
    "\n",
    "# Initial display\n",
    "initial_youtube_link = songs_links.loc[chosen_action, 'link']\n",
    "with youtube_display:\n",
    "    youtube_display.clear_output(wait=True)\n",
    "    display(YouTubeVideo(get_youtube_id(initial_youtube_link), width=500, height=500))\n",
    "\n",
    "with song_title_display:\n",
    "    display(HTML(\n",
    "    value=\"<h2>Ratings List</h2>\",\n",
    "   ))\n",
    "\n",
    "# Define layout structure\n",
    "left_column = VBox([current_song, song_title_display])\n",
    "right_column = VBox([youtube_display, HBox([rating_slider, suggest_button])])\n",
    "layout = HBox([left_column, right_column])\n",
    "\n",
    "# Display the GUI\n",
    "display(layout)\n",
    "\n",
    "def suggest_song(b):\n",
    "    global chosen_action\n",
    "\n",
    "    suggest_button.disabled = True\n",
    "    \n",
    "    # Get current title\n",
    "    title = data.loc[chosen_action, 'Title']\n",
    "    \n",
    "    # Get user rating\n",
    "    rating = rating_slider.value\n",
    "\n",
    "    # Store ratings (debug)\n",
    "    user_ratings.append((title, rating))\n",
    "    \n",
    "    with song_title_display:\n",
    "        print(f\"{title}: {rating}/10\")\n",
    "        \n",
    "    # Get the next song context\n",
    "    _, context = get_next_song_context(data, features, chosen_action)\n",
    "\n",
    "    \n",
    "    # Choose the action (song) based on the model\n",
    "    chosen_action = linucb_model.choose_action(context)\n",
    "\n",
    "    current_song.value = f\"<b>Current song:  </b><i>{data.loc[chosen_action, 'Title']}</i>\"\n",
    "        \n",
    "    # Get new YouTube link\n",
    "    youtube_link = songs_links.loc[chosen_action, 'link']\n",
    "\n",
    "    # Suggest New video\n",
    "    with youtube_display:\n",
    "        youtube_display.clear_output(wait=True)\n",
    "        display(YouTubeVideo(get_youtube_id(youtube_link), width=500, height=500, allow_autoplay=True))\n",
    "\n",
    "    # Update the model with user feedback\n",
    "    linucb_model.update_model(context=context, action=chosen_action, reward=rating)\n",
    "\n",
    "    suggest_button.disabled = False\n",
    "\n",
    "# Assign the suggest_song function to the button click event\n",
    "suggest_button.on_click(suggest_song)"
   ]
  },
  {
   "cell_type": "code",
   "execution_count": 25,
   "metadata": {},
   "outputs": [],
   "source": []
  }
 ],
 "metadata": {
  "kernelspec": {
   "display_name": "Python 3 (ipykernel)",
   "language": "python",
   "name": "python3"
  },
  "language_info": {
   "codemirror_mode": {
    "name": "ipython",
    "version": 3
   },
   "file_extension": ".py",
   "mimetype": "text/x-python",
   "name": "python",
   "nbconvert_exporter": "python",
   "pygments_lexer": "ipython3",
   "version": "3.10.4"
  }
 },
 "nbformat": 4,
 "nbformat_minor": 4
}
