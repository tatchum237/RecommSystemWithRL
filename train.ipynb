{
 "cells": [
  {
   "cell_type": "code",
   "execution_count": 1,
   "metadata": {},
   "outputs": [
    {
     "name": "stdout",
     "output_type": "stream",
     "text": [
      "WARNING:tensorflow:From c:\\Python310\\lib\\site-packages\\keras\\src\\losses.py:2976: The name tf.losses.sparse_softmax_cross_entropy is deprecated. Please use tf.compat.v1.losses.sparse_softmax_cross_entropy instead.\n",
      "\n"
     ]
    }
   ],
   "source": [
    "from model import LinUCB\n",
    "from ipywidgets import interact, widgets, Output, Layout\n",
    "from IPython.display import YouTubeVideo\n",
    "\n",
    "from random import randrange\n",
    "import pandas as pd\n",
    "import numpy as np\n",
    "from utils import load_data, preprocess_fast, preprocess_without_title, preprocess_with_title, search_duck_selenium, get_next_song_context\n",
    "\n",
    "# Load and preprocess data\n",
    "data = load_data(\"data/songs.csv\")\n",
    "\n",
    "songs_links = pd.read_csv(\"data/songs_links.csv\")"
   ]
  },
  {
   "cell_type": "code",
   "execution_count": 7,
   "metadata": {},
   "outputs": [
    {
     "data": {
      "application/vnd.jupyter.widget-view+json": {
       "model_id": "838c4c7d36fd4a20b9c88635715efd1e",
       "version_major": 2,
       "version_minor": 0
      },
      "text/plain": [
       "Output(layout=Layout(height='150px'))"
      ]
     },
     "metadata": {},
     "output_type": "display_data"
    },
    {
     "data": {
      "application/vnd.jupyter.widget-view+json": {
       "model_id": "cd4ff09a91cc46f1b1a45da8ffec6296",
       "version_major": 2,
       "version_minor": 0
      },
      "text/plain": [
       "Output(layout=Layout(height='315px'))"
      ]
     },
     "metadata": {},
     "output_type": "display_data"
    },
    {
     "data": {
      "application/vnd.jupyter.widget-view+json": {
       "model_id": "3a6a4b39f9e74eb191127eccfbed123b",
       "version_major": 2,
       "version_minor": 0
      },
      "text/plain": [
       "IntSlider(value=1, description='Rating:', max=10, min=1)"
      ]
     },
     "metadata": {},
     "output_type": "display_data"
    },
    {
     "data": {
      "application/vnd.jupyter.widget-view+json": {
       "model_id": "ee6bc868600248e6b0ee9943d2afd24a",
       "version_major": 2,
       "version_minor": 0
      },
      "text/plain": [
       "Button(description='Suggest Song', style=ButtonStyle())"
      ]
     },
     "metadata": {},
     "output_type": "display_data"
    }
   ],
   "source": [
    "features = preprocess_fast(data)\n",
    "\n",
    "# Initialize your LinUCB model\n",
    "num_actions = len(features)\n",
    "num_features = features.shape[1]\n",
    "alpha = 0.9  # You can adjust this value based on your needs\n",
    "linucb_model = LinUCB(num_actions=num_actions, num_features=num_features, alpha=alpha)\n",
    "chosen_action = randrange(num_actions)\n",
    "\n",
    "# Store user ratings\n",
    "user_ratings = []\n",
    "\n",
    "# Define interactive GUI elements\n",
    "song_title_display = Output(layout=Layout(height='150px'))  # Set the maximum height here\n",
    "youtube_display = Output(layout=Layout(height='315px'))  # Set the maximum height for YouTube video\n",
    "\n",
    "current_song = None\n",
    "rating_slider = widgets.IntSlider(min=1, max=10, description='Rating:')\n",
    "suggest_button = widgets.Button(description='Suggest Song')\n",
    "\n",
    "# Display the GUI\n",
    "display(song_title_display)\n",
    "display(youtube_display)\n",
    "display(rating_slider)\n",
    "display(suggest_button)\n",
    "\n",
    "def suggest_song(b):\n",
    "    global chosen_action\n",
    "    \n",
    "    # Get the next song context\n",
    "    title, context = get_next_song_context(data, features, chosen_action)\n",
    "\n",
    "    with song_title_display:\n",
    "        print(f\"Suggested Song Title: {title}\")\n",
    "\n",
    "    # Get YouTube link\n",
    "    youtube_link = songs_links[songs_links['Title'] == title]['link'].values[0]\n",
    "    \n",
    "    # Display YouTube video\n",
    "    with youtube_display:\n",
    "        display(YouTubeVideo(youtube_link))\n",
    "\n",
    "    # Get user rating\n",
    "    rating = rating_slider.value\n",
    "    user_ratings.append((title, rating))\n",
    "    \n",
    "    with song_title_display:\n",
    "        print(user_ratings[-1])\n",
    "\n",
    "    # Choose the action (song) based on the model\n",
    "    chosen_action = linucb_model.choose_action(context)\n",
    "\n",
    "    # Update the model with the user feedback\n",
    "    linucb_model.update_model(context=context, action=chosen_action, reward=rating)\n",
    "\n",
    "# Assign the suggest_song function to the button click event\n",
    "suggest_button.on_click(suggest_song)\n"
   ]
  }
 ],
 "metadata": {
  "kernelspec": {
   "display_name": "Python 3",
   "language": "python",
   "name": "python3"
  },
  "language_info": {
   "codemirror_mode": {
    "name": "ipython",
    "version": 3
   },
   "file_extension": ".py",
   "mimetype": "text/x-python",
   "name": "python",
   "nbconvert_exporter": "python",
   "pygments_lexer": "ipython3",
   "version": "3.10.4"
  }
 },
 "nbformat": 4,
 "nbformat_minor": 2
}
